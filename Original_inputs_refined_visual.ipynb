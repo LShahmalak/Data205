{
 "cells": [
  {
   "cell_type": "code",
   "execution_count": 1,
   "id": "fd9ef678",
   "metadata": {},
   "outputs": [],
   "source": [
    "import os\n",
    "import pandas as pd\n",
    "import matplotlib.pyplot as plt\n",
    "import plotly.express as px"
   ]
  },
  {
   "cell_type": "code",
   "execution_count": 2,
   "id": "3865ecd2",
   "metadata": {},
   "outputs": [
    {
     "data": {
      "text/plain": [
       "'/Users/luluashahmalak/Documents/FDA Internship'"
      ]
     },
     "execution_count": 2,
     "metadata": {},
     "output_type": "execute_result"
    }
   ],
   "source": [
    "wcd = os.getcwd()\n",
    "wcd"
   ]
  },
  {
   "cell_type": "code",
   "execution_count": 3,
   "id": "06fa2d28",
   "metadata": {},
   "outputs": [],
   "source": [
    "df1 = pd.read_excel('/Users/luluashahmalak/Documents/FDA Internship/Inputs Refined - Updated.xlsx')"
   ]
  },
  {
   "cell_type": "code",
   "execution_count": 4,
   "id": "d4290115",
   "metadata": {
    "scrolled": true
   },
   "outputs": [
    {
     "data": {
      "text/html": [
       "<div>\n",
       "<style scoped>\n",
       "    .dataframe tbody tr th:only-of-type {\n",
       "        vertical-align: middle;\n",
       "    }\n",
       "\n",
       "    .dataframe tbody tr th {\n",
       "        vertical-align: top;\n",
       "    }\n",
       "\n",
       "    .dataframe thead th {\n",
       "        text-align: right;\n",
       "    }\n",
       "</style>\n",
       "<table border=\"1\" class=\"dataframe\">\n",
       "  <thead>\n",
       "    <tr style=\"text-align: right;\">\n",
       "      <th></th>\n",
       "      <th>Publications</th>\n",
       "      <th>108</th>\n",
       "      <th>Unnamed: 2</th>\n",
       "      <th>Unnamed: 3</th>\n",
       "      <th>needs updates</th>\n",
       "    </tr>\n",
       "  </thead>\n",
       "  <tbody>\n",
       "    <tr>\n",
       "      <th>0</th>\n",
       "      <td>RSTs</td>\n",
       "      <td>27.0</td>\n",
       "      <td>NaN</td>\n",
       "      <td>NaN</td>\n",
       "      <td>NaN</td>\n",
       "    </tr>\n",
       "    <tr>\n",
       "      <th>1</th>\n",
       "      <td>Guidances</td>\n",
       "      <td>16.0</td>\n",
       "      <td>NaN</td>\n",
       "      <td>NaN</td>\n",
       "      <td>NaN</td>\n",
       "    </tr>\n",
       "    <tr>\n",
       "      <th>2</th>\n",
       "      <td>Standards</td>\n",
       "      <td>30.0</td>\n",
       "      <td>NaN</td>\n",
       "      <td>NaN</td>\n",
       "      <td>NaN</td>\n",
       "    </tr>\n",
       "    <tr>\n",
       "      <th>3</th>\n",
       "      <td>Communications</td>\n",
       "      <td>18.0</td>\n",
       "      <td>NaN</td>\n",
       "      <td>NaN</td>\n",
       "      <td>NaN</td>\n",
       "    </tr>\n",
       "    <tr>\n",
       "      <th>4</th>\n",
       "      <td>NaN</td>\n",
       "      <td>NaN</td>\n",
       "      <td>NaN</td>\n",
       "      <td>NaN</td>\n",
       "      <td>NaN</td>\n",
       "    </tr>\n",
       "  </tbody>\n",
       "</table>\n",
       "</div>"
      ],
      "text/plain": [
       "     Publications   108  Unnamed: 2  Unnamed: 3  needs updates\n",
       "0            RSTs  27.0         NaN         NaN            NaN\n",
       "1       Guidances  16.0         NaN         NaN            NaN\n",
       "2       Standards  30.0         NaN         NaN            NaN\n",
       "3  Communications  18.0         NaN         NaN            NaN\n",
       "4             NaN   NaN         NaN         NaN            NaN"
      ]
     },
     "execution_count": 4,
     "metadata": {},
     "output_type": "execute_result"
    }
   ],
   "source": [
    "df1.head()"
   ]
  },
  {
   "cell_type": "code",
   "execution_count": 5,
   "id": "f87c79c1",
   "metadata": {},
   "outputs": [],
   "source": [
    "df = pd.read_excel('Inputs Refined - Updated.xlsx', 'Publications')"
   ]
  },
  {
   "cell_type": "code",
   "execution_count": 6,
   "id": "0ef93e07",
   "metadata": {
    "scrolled": true
   },
   "outputs": [
    {
     "data": {
      "text/html": [
       "<div>\n",
       "<style scoped>\n",
       "    .dataframe tbody tr th:only-of-type {\n",
       "        vertical-align: middle;\n",
       "    }\n",
       "\n",
       "    .dataframe tbody tr th {\n",
       "        vertical-align: top;\n",
       "    }\n",
       "\n",
       "    .dataframe thead th {\n",
       "        text-align: right;\n",
       "    }\n",
       "</style>\n",
       "<table border=\"1\" class=\"dataframe\">\n",
       "  <thead>\n",
       "    <tr style=\"text-align: right;\">\n",
       "      <th></th>\n",
       "      <th>Publication Title</th>\n",
       "      <th>Reference</th>\n",
       "      <th>Link</th>\n",
       "      <th>Number of Unique Submissions</th>\n",
       "      <th>Unique Procodes</th>\n",
       "      <th>Program</th>\n",
       "      <th>Division</th>\n",
       "      <th>Source of Publication Title (Name of Scientist)</th>\n",
       "      <th>Search Phrase/Keyword</th>\n",
       "      <th>PublishDate</th>\n",
       "    </tr>\n",
       "  </thead>\n",
       "  <tbody>\n",
       "    <tr>\n",
       "      <th>0</th>\n",
       "      <td>In Vitro Leakage Testing of Tissue Containment...</td>\n",
       "      <td>Alexander Herman, Nandini Duraiswamy, Poulomi...</td>\n",
       "      <td>In Vitro Leakage Testing of Tissue Containment...</td>\n",
       "      <td>NaN</td>\n",
       "      <td>NaN</td>\n",
       "      <td>Post Market Signal Responce</td>\n",
       "      <td>DAM</td>\n",
       "      <td>Herman, Alexander</td>\n",
       "      <td>Bag integrity testing; Power morcellation; Pre...</td>\n",
       "      <td>2019-05-21</td>\n",
       "    </tr>\n",
       "    <tr>\n",
       "      <th>1</th>\n",
       "      <td>Mechanical and leakage integrity testing consi...</td>\n",
       "      <td>Alexander Herman, Nandini Duraiswamy , Poulomi...</td>\n",
       "      <td>Mechanical and leakage integrity testing consi...</td>\n",
       "      <td>NaN</td>\n",
       "      <td>NaN</td>\n",
       "      <td>Post Market Signal Responce</td>\n",
       "      <td>DAM</td>\n",
       "      <td>Herman, Alexander</td>\n",
       "      <td>NaN</td>\n",
       "      <td>2023-03-29</td>\n",
       "    </tr>\n",
       "    <tr>\n",
       "      <th>2</th>\n",
       "      <td>The importance of hemorheology and patient ana...</td>\n",
       "      <td>Aycock, K. I, Campbell, R. L, Lynch, F. C, Man...</td>\n",
       "      <td>The Importance of Hemorheology and Patient Ana...</td>\n",
       "      <td>NaN</td>\n",
       "      <td>NaN</td>\n",
       "      <td>Credibility of Computational Models</td>\n",
       "      <td>DAM</td>\n",
       "      <td>Brent Craven</td>\n",
       "      <td>Blood viscosity; Computational fluid dynamics;...</td>\n",
       "      <td>2016-06-06</td>\n",
       "    </tr>\n",
       "    <tr>\n",
       "      <th>3</th>\n",
       "      <td>A CFD-based Kriging surrogate modeling approa...</td>\n",
       "      <td>Craven BA, Aycock KI, Herbertson LH, Malinausk...</td>\n",
       "      <td>A CFD-based Kriging surrogate modeling approac...</td>\n",
       "      <td>NaN</td>\n",
       "      <td>NaN</td>\n",
       "      <td>Credibility of Computational Models</td>\n",
       "      <td>DAM</td>\n",
       "      <td>Brent Craven</td>\n",
       "      <td>Blood damage; Hemolysis; Kriging surrogate mod...</td>\n",
       "      <td>2019-02-27</td>\n",
       "    </tr>\n",
       "    <tr>\n",
       "      <th>4</th>\n",
       "      <td>Use of the FDA Nozzle Model to Illustrate Vali...</td>\n",
       "      <td>Hariharan, P., D’Souza, G. A., Horner, M., Mor...</td>\n",
       "      <td>Use of the FDA nozzle model to illustrate vali...</td>\n",
       "      <td>NaN</td>\n",
       "      <td>NaN</td>\n",
       "      <td>Cardiovascular</td>\n",
       "      <td>DAM</td>\n",
       "      <td>Richard Malinauskas</td>\n",
       "      <td>NaN</td>\n",
       "      <td>2017-06-08</td>\n",
       "    </tr>\n",
       "  </tbody>\n",
       "</table>\n",
       "</div>"
      ],
      "text/plain": [
       "                                   Publication Title  \\\n",
       "0  In Vitro Leakage Testing of Tissue Containment...   \n",
       "1  Mechanical and leakage integrity testing consi...   \n",
       "2  The importance of hemorheology and patient ana...   \n",
       "3   A CFD-based Kriging surrogate modeling approa...   \n",
       "4  Use of the FDA Nozzle Model to Illustrate Vali...   \n",
       "\n",
       "                                          Reference   \\\n",
       "0   Alexander Herman, Nandini Duraiswamy, Poulomi...   \n",
       "1  Alexander Herman, Nandini Duraiswamy , Poulomi...   \n",
       "2  Aycock, K. I, Campbell, R. L, Lynch, F. C, Man...   \n",
       "3  Craven BA, Aycock KI, Herbertson LH, Malinausk...   \n",
       "4  Hariharan, P., D’Souza, G. A., Horner, M., Mor...   \n",
       "\n",
       "                                                Link  \\\n",
       "0  In Vitro Leakage Testing of Tissue Containment...   \n",
       "1  Mechanical and leakage integrity testing consi...   \n",
       "2  The Importance of Hemorheology and Patient Ana...   \n",
       "3  A CFD-based Kriging surrogate modeling approac...   \n",
       "4  Use of the FDA nozzle model to illustrate vali...   \n",
       "\n",
       "   Number of Unique Submissions Unique Procodes  \\\n",
       "0                           NaN             NaN   \n",
       "1                           NaN             NaN   \n",
       "2                           NaN             NaN   \n",
       "3                           NaN             NaN   \n",
       "4                           NaN             NaN   \n",
       "\n",
       "                               Program Division   \\\n",
       "0          Post Market Signal Responce       DAM   \n",
       "1          Post Market Signal Responce       DAM   \n",
       "2  Credibility of Computational Models       DAM   \n",
       "3  Credibility of Computational Models       DAM   \n",
       "4                       Cardiovascular       DAM   \n",
       "\n",
       "  Source of Publication Title (Name of Scientist)  \\\n",
       "0                               Herman, Alexander   \n",
       "1                               Herman, Alexander   \n",
       "2                                    Brent Craven   \n",
       "3                                    Brent Craven   \n",
       "4                             Richard Malinauskas   \n",
       "\n",
       "                               Search Phrase/Keyword PublishDate  \n",
       "0  Bag integrity testing; Power morcellation; Pre...  2019-05-21  \n",
       "1                                                NaN  2023-03-29  \n",
       "2  Blood viscosity; Computational fluid dynamics;...  2016-06-06  \n",
       "3  Blood damage; Hemolysis; Kriging surrogate mod...  2019-02-27  \n",
       "4                                                NaN  2017-06-08  "
      ]
     },
     "execution_count": 6,
     "metadata": {},
     "output_type": "execute_result"
    }
   ],
   "source": [
    "df.head()"
   ]
  },
  {
   "cell_type": "code",
   "execution_count": 7,
   "id": "274d431a",
   "metadata": {},
   "outputs": [
    {
     "name": "stdout",
     "output_type": "stream",
     "text": [
      "Index(['Publication Title', 'Reference ', 'Link',\n",
      "       'Number of Unique Submissions', 'Unique Procodes', 'Program',\n",
      "       'Division ', 'Source of Publication Title (Name of Scientist)',\n",
      "       'Search Phrase/Keyword', 'PublishDate'],\n",
      "      dtype='object')\n"
     ]
    }
   ],
   "source": [
    "variable_names = df.columns\n",
    "print(variable_names)"
   ]
  },
  {
   "cell_type": "markdown",
   "id": "3cac1dbc",
   "metadata": {},
   "source": [
    "## The amount of Publications according to each division."
   ]
  },
  {
   "cell_type": "code",
   "execution_count": 8,
   "id": "8e211a45",
   "metadata": {},
   "outputs": [],
   "source": [
    "df.loc[df['Division '] == 'DAM', 'Division '] = 'Division of Applied Mechanics'\n",
    "df.loc[df['Division '] == 'DBP', 'Division '] = 'Division of Biomedical Physics'\n",
    "df.loc[df['Division '] == 'DIDSR', 'Division '] = 'Division of Imaging, Diagnostics, and Software Reliability'\n",
    "df.loc[df['Division '] == 'DBCMS', 'Division '] = 'Division of Biology, Chemistry, and Materials Science'"
   ]
  },
  {
   "cell_type": "code",
   "execution_count": 9,
   "id": "fe6995f8",
   "metadata": {},
   "outputs": [],
   "source": [
    "publication_counts = df['Publication Title'].value_counts()"
   ]
  },
  {
   "cell_type": "code",
   "execution_count": 10,
   "id": "b6f1c1ff",
   "metadata": {},
   "outputs": [
    {
     "name": "stdout",
     "output_type": "stream",
     "text": [
      "                                           Division   Publication Count\n",
      "0                     Division of Biomedical Physics                 44\n",
      "1  Division of Imaging, Diagnostics, and Software...                 26\n",
      "2                      Division of Applied Mechanics                 25\n",
      "3  Division of Biology, Chemistry, and Materials ...                 13\n"
     ]
    }
   ],
   "source": [
    "division_counts = df['Division '].value_counts().to_frame().reset_index()\n",
    "division_counts.columns = ['Division ', 'Publication Count']\n",
    "print(division_counts)"
   ]
  },
  {
   "cell_type": "code",
   "execution_count": 11,
   "id": "03f89d06",
   "metadata": {
    "scrolled": true
   },
   "outputs": [
    {
     "data": {
      "image/png": "[encoded data removed]",
      "text/plain": [
       "<Figure size 640x480 with 1 Axes>"
      ]
     },
     "metadata": {},
     "output_type": "display_data"
    }
   ],
   "source": [
    "division_counts = df['Division '].value_counts()\n",
    "\n",
    "plt.bar(division_counts.index, division_counts.values, color='#00BFFF')\n",
    "plt.xlabel('Divisions')\n",
    "plt.ylabel('Publication Count')\n",
    "plt.title('Publications by Division')\n",
    "plt.xticks(rotation=80)\n",
    "plt.show()"
   ]
  },
  {
   "cell_type": "markdown",
   "id": "699e4c24",
   "metadata": {},
   "source": [
    "## The amount of publications according to programs"
   ]
  },
  {
   "cell_type": "code",
   "execution_count": 14,
   "id": "21671958",
   "metadata": {},
   "outputs": [],
   "source": [
    "# ensure that the information associated with 'Credibility of Computational Models' is now grouped under 'Credibility in Computational Modeling'\n",
    "df['Program'] = df['Program'].replace('Credibility of Computational Models', 'Credibility in Computational Modeling')"
   ]
  },
  {
   "cell_type": "code",
   "execution_count": 19,
   "id": "611b9f73",
   "metadata": {},
   "outputs": [],
   "source": [
    "df['Program'] = df['Program'].replace('MID', 'Digital Pathology, MID')"
   ]
  },
  {
   "cell_type": "code",
   "execution_count": 25,
   "id": "d41283a1",
   "metadata": {},
   "outputs": [],
   "source": [
    "df['Program'] = df['Program'].replace('AI/ML', 'Digital Pathology, AI/ML')"
   ]
  },
  {
   "cell_type": "code",
   "execution_count": 23,
   "id": "4f7b955f",
   "metadata": {},
   "outputs": [],
   "source": [
    "df['Program'] = df['Program'].replace('Ophthalmology', 'Ophthalmology, Electromagnetic and Electrical Safety')"
   ]
  },
  {
   "cell_type": "code",
   "execution_count": 27,
   "id": "76ba70e4",
   "metadata": {},
   "outputs": [
    {
     "data": {
      "application/vnd.plotly.v1+json": {
       "config": {
        "plotlyServerURL": "https://plot.ly"
       },
       "data": [
        {
         "alignmentgroup": "True",
         "customdata": [
          [
           "AM/Ortho"
          ]
         ],
         "hovertemplate": "Program=%{customdata[0]}<br>Divisions=%{x}<br>y=%{y}<extra></extra>",
         "legendgroup": "AM/Ortho",
         "marker": {
          "color": "#636efa",
          "pattern": {
           "shape": ""
          }
         },
         "name": "AM/Ortho",
         "offsetgroup": "AM/Ortho",
         "orientation": "v",
         "showlegend": true,
         "textposition": "auto",
         "type": "bar",
         "x": [
          "Division of Applied Mechanics"
         ],
         "xaxis": "x",
         "y": [
          1
         ],
         "yaxis": "y"
        },
        {
         "alignmentgroup": "True",
         "customdata": [
          [
           "Artificial Intelligence"
          ],
          [
           "Artificial Intelligence"
          ],
          [
           "Artificial Intelligence"
          ],
          [
           "Artificial Intelligence"
          ]
         ],
         "hovertemplate": "Program=%{customdata[0]}<br>Divisions=%{x}<br>y=%{y}<extra></extra>",
         "legendgroup": "Artificial Intelligence",
         "marker": {
          "color": "#EF553B",
          "pattern": {
           "shape": ""
          }
         },
         "name": "Artificial Intelligence",
         "offsetgroup": "Artificial Intelligence",
         "orientation": "v",
         "showlegend": true,
         "textposition": "auto",
         "type": "bar",
         "x": [
          "Division of Imaging, Diagnostics, and Software Reliability",
          "Division of Imaging, Diagnostics, and Software Reliability",
          "Division of Imaging, Diagnostics, and Software Reliability",
          "Division of Imaging, Diagnostics, and Software Reliability"
         ],
         "xaxis": "x",
         "y": [
          1,
          1,
          1,
          1
         ],
         "yaxis": "y"
        },
        {
         "alignmentgroup": "True",
         "customdata": [
          [
           "Biocompatibility & Toxicology"
          ],
          [
           "Biocompatibility & Toxicology"
          ],
          [
           "Biocompatibility & Toxicology"
          ],
          [
           "Biocompatibility & Toxicology"
          ],
          [
           "Biocompatibility & Toxicology"
          ],
          [
           "Biocompatibility & Toxicology"
          ],
          [
           "Biocompatibility & Toxicology"
          ],
          [
           "Biocompatibility & Toxicology"
          ],
          [
           "Biocompatibility & Toxicology"
          ]
         ],
         "hovertemplate": "Program=%{customdata[0]}<br>Divisions=%{x}<br>y=%{y}<extra></extra>",
         "legendgroup": "Biocompatibility & Toxicology",
         "marker": {
          "color": "#00cc96",
          "pattern": {
           "shape": ""
          }
         },
         "name": "Biocompatibility & Toxicology",
         "offsetgroup": "Biocompatibility & Toxicology",
         "orientation": "v",
         "showlegend": true,
         "textposition": "auto",
         "type": "bar",
         "x": [
          "Division of Biology, Chemistry, and Materials Science",
          "Division of Biology, Chemistry, and Materials Science",
          "Division of Biology, Chemistry, and Materials Science",
          "Division of Biology, Chemistry, and Materials Science",
          "Division of Biology, Chemistry, and Materials Science",
          "Division of Biology, Chemistry, and Materials Science",
          "Division of Biology, Chemistry, and Materials Science",
          "Division of Biology, Chemistry, and Materials Science",
          "Division of Biology, Chemistry, and Materials Science"
         ],
         "xaxis": "x",
         "y": [
          1,
          1,
          1,
          1,
          1,
          1,
          1,
          1,
          1
         ],
         "yaxis": "y"
        },
        {
         "alignmentgroup": "True",
         "customdata": [
          [
           "Cardiovascular"
          ],
          [
           "Cardiovascular"
          ],
          [
           "Cardiovascular"
          ],
          [
           "Cardiovascular"
          ],
          [
           "Cardiovascular"
          ],
          [
           "Cardiovascular"
          ],
          [
           "Cardiovascular"
          ],
          [
           "Cardiovascular"
          ],
          [
           "Cardiovascular"
          ],
          [
           "Cardiovascular"
          ],
          [
           "Cardiovascular"
          ],
          [
           "Cardiovascular"
          ],
          [
           "Cardiovascular"
          ],
          [
           "Cardiovascular"
          ],
          [
           "Cardiovascular"
          ],
          [
           "Cardiovascular"
          ],
          [
           "Cardiovascular"
          ],
          [
           "Cardiovascular"
          ],
          [
           "Cardiovascular"
          ]
         ],
         "hovertemplate": "Program=%{customdata[0]}<br>Divisions=%{x}<br>y=%{y}<extra></extra>",
         "legendgroup": "Cardiovascular",
         "marker": {
          "color": "#ab63fa",
          "pattern": {
           "shape": ""
          }
         },
         "name": "Cardiovascular",
         "offsetgroup": "Cardiovascular",
         "orientation": "v",
         "showlegend": true,
         "textposition": "auto",
         "type": "bar",
         "x": [
          "Division of Applied Mechanics",
          "Division of Biomedical Physics",
          "Division of Biomedical Physics",
          "Division of Biomedical Physics",
          "Division of Biomedical Physics",
          "Division of Biomedical Physics",
          "Division of Biomedical Physics",
          "Division of Applied Mechanics",
          "Division of Applied Mechanics",
          "Division of Applied Mechanics",
          "Division of Applied Mechanics",
          "Division of Applied Mechanics",
          "Division of Applied Mechanics",
          "Division of Applied Mechanics",
          "Division of Applied Mechanics",
          "Division of Applied Mechanics",
          "Division of Applied Mechanics",
          "Division of Applied Mechanics",
          "Division of Biomedical Physics"
         ],
         "xaxis": "x",
         "y": [
          1,
          1,
          1,
          1,
          1,
          1,
          1,
          1,
          1,
          1,
          1,
          1,
          1,
          1,
          1,
          1,
          1,
          1,
          1
         ],
         "yaxis": "y"
        },
        {
         "alignmentgroup": "True",
         "customdata": [
          [
           "Credibility in Computational Modeling"
          ],
          [
           "Credibility in Computational Modeling"
          ],
          [
           "Credibility in Computational Modeling"
          ],
          [
           "Credibility in Computational Modeling"
          ],
          [
           "Credibility in Computational Modeling"
          ],
          [
           "Credibility in Computational Modeling"
          ],
          [
           "Credibility in Computational Modeling"
          ]
         ],
         "hovertemplate": "Program=%{customdata[0]}<br>Divisions=%{x}<br>y=%{y}<extra></extra>",
         "legendgroup": "Credibility in Computational Modeling",
         "marker": {
          "color": "#FFA15A",
          "pattern": {
           "shape": ""
          }
         },
         "name": "Credibility in Computational Modeling",
         "offsetgroup": "Credibility in Computational Modeling",
         "orientation": "v",
         "showlegend": true,
         "textposition": "auto",
         "type": "bar",
         "x": [
          "Division of Applied Mechanics",
          "Division of Biomedical Physics",
          "Division of Biomedical Physics",
          "Division of Applied Mechanics",
          "Division of Applied Mechanics",
          "Division of Applied Mechanics",
          "Division of Applied Mechanics"
         ],
         "xaxis": "x",
         "y": [
          1,
          1,
          1,
          1,
          1,
          1,
          1
         ],
         "yaxis": "y"
        },
        {
         "alignmentgroup": "True",
         "customdata": [
          [
           "Digital Pathology, AI/ML"
          ],
          [
           "Digital Pathology, AI/ML"
          ],
          [
           "Digital Pathology, AI/ML"
          ],
          [
           "Digital Pathology, AI/ML"
          ],
          [
           "Digital Pathology, AI/ML"
          ],
          [
           "Digital Pathology, AI/ML"
          ],
          [
           "Digital Pathology, AI/ML"
          ],
          [
           "Digital Pathology, AI/ML"
          ]
         ],
         "hovertemplate": "Program=%{customdata[0]}<br>Divisions=%{x}<br>y=%{y}<extra></extra>",
         "legendgroup": "Digital Pathology, AI/ML",
         "marker": {
          "color": "#19d3f3",
          "pattern": {
           "shape": ""
          }
         },
         "name": "Digital Pathology, AI/ML",
         "offsetgroup": "Digital Pathology, AI/ML",
         "orientation": "v",
         "showlegend": true,
         "textposition": "auto",
         "type": "bar",
         "x": [
          "Division of Imaging, Diagnostics, and Software Reliability",
          "Division of Imaging, Diagnostics, and Software Reliability",
          "Division of Imaging, Diagnostics, and Software Reliability",
          "Division of Imaging, Diagnostics, and Software Reliability",
          "Division of Imaging, Diagnostics, and Software Reliability",
          "Division of Imaging, Diagnostics, and Software Reliability",
          "Division of Imaging, Diagnostics, and Software Reliability",
          "Division of Imaging, Diagnostics, and Software Reliability"
         ],
         "xaxis": "x",
         "y": [
          1,
          1,
          1,
          1,
          1,
          1,
          1,
          1
         ],
         "yaxis": "y"
        },
        {
         "alignmentgroup": "True",
         "customdata": [
          [
           "Digital Pathology, MID"
          ],
          [
           "Digital Pathology, MID"
          ],
          [
           "Digital Pathology, MID"
          ],
          [
           "Digital Pathology, MID"
          ],
          [
           "Digital Pathology, MID"
          ],
          [
           "Digital Pathology, MID"
          ],
          [
           "Digital Pathology, MID"
          ],
          [
           "Digital Pathology, MID"
          ],
          [
           "Digital Pathology, MID"
          ],
          [
           "Digital Pathology, MID"
          ],
          [
           "Digital Pathology, MID"
          ],
          [
           "Digital Pathology, MID"
          ],
          [
           "Digital Pathology, MID"
          ],
          [
           "Digital Pathology, MID"
          ],
          [
           "Digital Pathology, MID"
          ],
          [
           "Digital Pathology, MID"
          ],
          [
           "Digital Pathology, MID"
          ],
          [
           "Digital Pathology, MID"
          ],
          [
           "Digital Pathology, MID"
          ],
          [
           "Digital Pathology, MID"
          ],
          [
           "Digital Pathology, MID"
          ],
          [
           "Digital Pathology, MID"
          ],
          [
           "Digital Pathology, MID"
          ],
          [
           "Digital Pathology, MID"
          ],
          [
           "Digital Pathology, MID"
          ],
          [
           "Digital Pathology, MID"
          ],
          [
           "Digital Pathology, MID"
          ],
          [
           "Digital Pathology, MID"
          ],
          [
           "Digital Pathology, MID"
          ],
          [
           "Digital Pathology, MID"
          ],
          [
           "Digital Pathology, MID"
          ],
          [
           "Digital Pathology, MID"
          ]
         ],
         "hovertemplate": "Program=%{customdata[0]}<br>Divisions=%{x}<br>y=%{y}<extra></extra>",
         "legendgroup": "Digital Pathology, MID",
         "marker": {
          "color": "#FF6692",
          "pattern": {
           "shape": ""
          }
         },
         "name": "Digital Pathology, MID",
         "offsetgroup": "Digital Pathology, MID",
         "orientation": "v",
         "showlegend": true,
         "textposition": "auto",
         "type": "bar",
         "x": [
          "Division of Biomedical Physics",
          "Division of Biomedical Physics",
          "Division of Biomedical Physics",
          "Division of Biomedical Physics",
          "Division of Biomedical Physics",
          "Division of Biomedical Physics",
          "Division of Imaging, Diagnostics, and Software Reliability",
          "Division of Biomedical Physics",
          "Division of Biomedical Physics",
          "Division of Imaging, Diagnostics, and Software Reliability",
          "Division of Imaging, Diagnostics, and Software Reliability",
          "Division of Imaging, Diagnostics, and Software Reliability",
          "Division of Imaging, Diagnostics, and Software Reliability",
          "Division of Imaging, Diagnostics, and Software Reliability",
          "Division of Biomedical Physics",
          "Division of Biomedical Physics",
          "Division of Biomedical Physics",
          "Division of Imaging, Diagnostics, and Software Reliability",
          "Division of Imaging, Diagnostics, and Software Reliability",
          "Division of Imaging, Diagnostics, and Software Reliability",
          "Division of Imaging, Diagnostics, and Software Reliability",
          "Division of Imaging, Diagnostics, and Software Reliability",
          "Division of Biomedical Physics",
          "Division of Biomedical Physics",
          "Division of Biomedical Physics",
          "Division of Biomedical Physics",
          "Division of Biomedical Physics",
          "Division of Biomedical Physics",
          "Division of Biomedical Physics",
          "Division of Biomedical Physics",
          "Division of Biomedical Physics",
          "Division of Biomedical Physics"
         ],
         "xaxis": "x",
         "y": [
          1,
          1,
          1,
          1,
          1,
          1,
          1,
          1,
          1,
          1,
          1,
          1,
          1,
          1,
          1,
          1,
          1,
          1,
          1,
          1,
          1,
          1,
          1,
          1,
          1,
          1,
          1,
          1,
          1,
          1,
          1,
          1
         ],
         "yaxis": "y"
        },
        {
         "alignmentgroup": "True",
         "customdata": [
          [
           "Electrical safety and battery"
          ]
         ],
         "hovertemplate": "Program=%{customdata[0]}<br>Divisions=%{x}<br>y=%{y}<extra></extra>",
         "legendgroup": "Electrical safety and battery",
         "marker": {
          "color": "#B6E880",
          "pattern": {
           "shape": ""
          }
         },
         "name": "Electrical safety and battery",
         "offsetgroup": "Electrical safety and battery",
         "orientation": "v",
         "showlegend": true,
         "textposition": "auto",
         "type": "bar",
         "x": [
          "Division of Biomedical Physics"
         ],
         "xaxis": "x",
         "y": [
          1
         ],
         "yaxis": "y"
        },
        {
         "alignmentgroup": "True",
         "customdata": [
          [
           "Electromagnetic and Electric Safety (EES) - MRI Safety"
          ],
          [
           "Electromagnetic and Electric Safety (EES) - MRI Safety"
          ]
         ],
         "hovertemplate": "Program=%{customdata[0]}<br>Divisions=%{x}<br>y=%{y}<extra></extra>",
         "legendgroup": "Electromagnetic and Electric Safety (EES) - MRI Safety",
         "marker": {
          "color": "#FF97FF",
          "pattern": {
           "shape": ""
          }
         },
         "name": "Electromagnetic and Electric Safety (EES) - MRI Safety",
         "offsetgroup": "Electromagnetic and Electric Safety (EES) - MRI Safety",
         "orientation": "v",
         "showlegend": true,
         "textposition": "auto",
         "type": "bar",
         "x": [
          "Division of Biomedical Physics",
          "Division of Biomedical Physics"
         ],
         "xaxis": "x",
         "y": [
          1,
          1
         ],
         "yaxis": "y"
        },
        {
         "alignmentgroup": "True",
         "customdata": [
          [
           "Laser and Optical Radiation Safety (LORS)"
          ],
          [
           "Laser and Optical Radiation Safety (LORS)"
          ]
         ],
         "hovertemplate": "Program=%{customdata[0]}<br>Divisions=%{x}<br>y=%{y}<extra></extra>",
         "legendgroup": "Laser and Optical Radiation Safety (LORS)",
         "marker": {
          "color": "#FECB52",
          "pattern": {
           "shape": ""
          }
         },
         "name": "Laser and Optical Radiation Safety (LORS)",
         "offsetgroup": "Laser and Optical Radiation Safety (LORS)",
         "orientation": "v",
         "showlegend": true,
         "textposition": "auto",
         "type": "bar",
         "x": [
          "Division of Biomedical Physics",
          "Division of Biomedical Physics"
         ],
         "xaxis": "x",
         "y": [
          1,
          1
         ],
         "yaxis": "y"
        },
        {
         "alignmentgroup": "True",
         "customdata": [
          [
           "MXR"
          ],
          [
           "MXR"
          ],
          [
           "MXR"
          ]
         ],
         "hovertemplate": "Program=%{customdata[0]}<br>Divisions=%{x}<br>y=%{y}<extra></extra>",
         "legendgroup": "MXR",
         "marker": {
          "color": "#636efa",
          "pattern": {
           "shape": ""
          }
         },
         "name": "MXR",
         "offsetgroup": "MXR",
         "orientation": "v",
         "showlegend": true,
         "textposition": "auto",
         "type": "bar",
         "x": [
          "Division of Imaging, Diagnostics, and Software Reliability",
          "Division of Imaging, Diagnostics, and Software Reliability",
          "Division of Imaging, Diagnostics, and Software Reliability"
         ],
         "xaxis": "x",
         "y": [
          1,
          1,
          1
         ],
         "yaxis": "y"
        },
        {
         "alignmentgroup": "True",
         "customdata": [
          [
           "Materials and Chemical Characterization"
          ],
          [
           "Materials and Chemical Characterization"
          ],
          [
           "Materials and Chemical Characterization"
          ],
          [
           "Materials and Chemical Characterization"
          ]
         ],
         "hovertemplate": "Program=%{customdata[0]}<br>Divisions=%{x}<br>y=%{y}<extra></extra>",
         "legendgroup": "Materials and Chemical Characterization",
         "marker": {
          "color": "#EF553B",
          "pattern": {
           "shape": ""
          }
         },
         "name": "Materials and Chemical Characterization",
         "offsetgroup": "Materials and Chemical Characterization",
         "orientation": "v",
         "showlegend": true,
         "textposition": "auto",
         "type": "bar",
         "x": [
          "Division of Biology, Chemistry, and Materials Science",
          "Division of Biology, Chemistry, and Materials Science",
          "Division of Biology, Chemistry, and Materials Science",
          "Division of Biology, Chemistry, and Materials Science"
         ],
         "xaxis": "x",
         "y": [
          1,
          1,
          1,
          1
         ],
         "yaxis": "y"
        },
        {
         "alignmentgroup": "True",
         "customdata": [
          [
           "Ophthalmology, Electromagnetic and Electrical Safety"
          ],
          [
           "Ophthalmology, Electromagnetic and Electrical Safety"
          ],
          [
           "Ophthalmology, Electromagnetic and Electrical Safety"
          ],
          [
           "Ophthalmology, Electromagnetic and Electrical Safety"
          ],
          [
           "Ophthalmology, Electromagnetic and Electrical Safety"
          ],
          [
           "Ophthalmology, Electromagnetic and Electrical Safety"
          ]
         ],
         "hovertemplate": "Program=%{customdata[0]}<br>Divisions=%{x}<br>y=%{y}<extra></extra>",
         "legendgroup": "Ophthalmology, Electromagnetic and Electrical Safety",
         "marker": {
          "color": "#00cc96",
          "pattern": {
           "shape": ""
          }
         },
         "name": "Ophthalmology, Electromagnetic and Electrical Safety",
         "offsetgroup": "Ophthalmology, Electromagnetic and Electrical Safety",
         "orientation": "v",
         "showlegend": true,
         "textposition": "auto",
         "type": "bar",
         "x": [
          "Division of Biomedical Physics",
          "Division of Biomedical Physics",
          "Division of Biomedical Physics",
          "Division of Biomedical Physics",
          "Division of Biomedical Physics",
          "Division of Biomedical Physics"
         ],
         "xaxis": "x",
         "y": [
          1,
          1,
          1,
          1,
          1,
          1
         ],
         "yaxis": "y"
        },
        {
         "alignmentgroup": "True",
         "customdata": [
          [
           "Orthopaedics/Additive Manufacturing"
          ]
         ],
         "hovertemplate": "Program=%{customdata[0]}<br>Divisions=%{x}<br>y=%{y}<extra></extra>",
         "legendgroup": "Orthopaedics/Additive Manufacturing",
         "marker": {
          "color": "#ab63fa",
          "pattern": {
           "shape": ""
          }
         },
         "name": "Orthopaedics/Additive Manufacturing",
         "offsetgroup": "Orthopaedics/Additive Manufacturing",
         "orientation": "v",
         "showlegend": true,
         "textposition": "auto",
         "type": "bar",
         "x": [
          "Division of Applied Mechanics"
         ],
         "xaxis": "x",
         "y": [
          1
         ],
         "yaxis": "y"
        },
        {
         "alignmentgroup": "True",
         "customdata": [
          [
           "Orthopedic, Material Science and Cardiovascular"
          ],
          [
           "Orthopedic, Material Science and Cardiovascular"
          ]
         ],
         "hovertemplate": "Program=%{customdata[0]}<br>Divisions=%{x}<br>y=%{y}<extra></extra>",
         "legendgroup": "Orthopedic, Material Science and Cardiovascular",
         "marker": {
          "color": "#FFA15A",
          "pattern": {
           "shape": ""
          }
         },
         "name": "Orthopedic, Material Science and Cardiovascular",
         "offsetgroup": "Orthopedic, Material Science and Cardiovascular",
         "orientation": "v",
         "showlegend": true,
         "textposition": "auto",
         "type": "bar",
         "x": [
          "Division of Applied Mechanics",
          "Division of Applied Mechanics"
         ],
         "xaxis": "x",
         "y": [
          1,
          1
         ],
         "yaxis": "y"
        },
        {
         "alignmentgroup": "True",
         "customdata": [
          [
           "Orthopedics"
          ],
          [
           "Orthopedics"
          ]
         ],
         "hovertemplate": "Program=%{customdata[0]}<br>Divisions=%{x}<br>y=%{y}<extra></extra>",
         "legendgroup": "Orthopedics",
         "marker": {
          "color": "#19d3f3",
          "pattern": {
           "shape": ""
          }
         },
         "name": "Orthopedics",
         "offsetgroup": "Orthopedics",
         "orientation": "v",
         "showlegend": true,
         "textposition": "auto",
         "type": "bar",
         "x": [
          "Division of Applied Mechanics",
          "Division of Applied Mechanics"
         ],
         "xaxis": "x",
         "y": [
          1,
          1
         ],
         "yaxis": "y"
        },
        {
         "alignmentgroup": "True",
         "customdata": [
          [
           "Patient Monitoring and Control"
          ],
          [
           "Patient Monitoring and Control"
          ],
          [
           "Patient Monitoring and Control"
          ]
         ],
         "hovertemplate": "Program=%{customdata[0]}<br>Divisions=%{x}<br>y=%{y}<extra></extra>",
         "legendgroup": "Patient Monitoring and Control",
         "marker": {
          "color": "#FF6692",
          "pattern": {
           "shape": ""
          }
         },
         "name": "Patient Monitoring and Control",
         "offsetgroup": "Patient Monitoring and Control",
         "orientation": "v",
         "showlegend": true,
         "textposition": "auto",
         "type": "bar",
         "x": [
          "Division of Biomedical Physics",
          "Division of Biomedical Physics",
          "Division of Biomedical Physics"
         ],
         "xaxis": "x",
         "y": [
          1,
          1,
          1
         ],
         "yaxis": "y"
        },
        {
         "alignmentgroup": "True",
         "customdata": [
          [
           "Post Market Signal Responce"
          ],
          [
           "Post Market Signal Responce"
          ]
         ],
         "hovertemplate": "Program=%{customdata[0]}<br>Divisions=%{x}<br>y=%{y}<extra></extra>",
         "legendgroup": "Post Market Signal Responce",
         "marker": {
          "color": "#B6E880",
          "pattern": {
           "shape": ""
          }
         },
         "name": "Post Market Signal Responce",
         "offsetgroup": "Post Market Signal Responce",
         "orientation": "v",
         "showlegend": true,
         "textposition": "auto",
         "type": "bar",
         "x": [
          "Division of Applied Mechanics",
          "Division of Applied Mechanics"
         ],
         "xaxis": "x",
         "y": [
          1,
          1
         ],
         "yaxis": "y"
        }
       ],
       "layout": {
        "barmode": "relative",
        "legend": {
         "title": {
          "text": "Program"
         },
         "tracegroupgap": 0
        },
        "template": {
         "data": {
          "bar": [
           {
            "error_x": {
             "color": "#2a3f5f"
            },
            "error_y": {
             "color": "#2a3f5f"
            },
            "marker": {
             "line": {
              "color": "#E5ECF6",
              "width": 0.5
             },
             "pattern": {
              "fillmode": "overlay",
              "size": 10,
              "solidity": 0.2
             }
            },
            "type": "bar"
           }
          ],
          "barpolar": [
           {
            "marker": {
             "line": {
              "color": "#E5ECF6",
              "width": 0.5
             },
             "pattern": {
              "fillmode": "overlay",
              "size": 10,
              "solidity": 0.2
             }
            },
            "type": "barpolar"
           }
          ],
          "carpet": [
           {
            "aaxis": {
             "endlinecolor": "#2a3f5f",
             "gridcolor": "white",
             "linecolor": "white",
             "minorgridcolor": "white",
             "startlinecolor": "#2a3f5f"
            },
            "baxis": {
             "endlinecolor": "#2a3f5f",
             "gridcolor": "white",
             "linecolor": "white",
             "minorgridcolor": "white",
             "startlinecolor": "#2a3f5f"
            },
            "type": "carpet"
           }
          ],
          "choropleth": [
           {
            "colorbar": {
             "outlinewidth": 0,
             "ticks": ""
            },
            "type": "choropleth"
           }
          ],
          "contour": [
           {
            "colorbar": {
             "outlinewidth": 0,
             "ticks": ""
            },
            "colorscale": [
             [
              0,
              "#0d0887"
             ],
             [
              0.1111111111111111,
              "#46039f"
             ],
             [
              0.2222222222222222,
              "#7201a8"
             ],
             [
              0.3333333333333333,
              "#9c179e"
             ],
             [
              0.4444444444444444,
              "#bd3786"
             ],
             [
              0.5555555555555556,
              "#d8576b"
             ],
             [
              0.6666666666666666,
              "#ed7953"
             ],
             [
              0.7777777777777778,
              "#fb9f3a"
             ],
             [
              0.8888888888888888,
              "#fdca26"
             ],
             [
              1,
              "#f0f921"
             ]
            ],
            "type": "contour"
           }
          ],
          "contourcarpet": [
           {
            "colorbar": {
             "outlinewidth": 0,
             "ticks": ""
            },
            "type": "contourcarpet"
           }
          ],
          "heatmap": [
           {
            "colorbar": {
             "outlinewidth": 0,
             "ticks": ""
            },
            "colorscale": [
             [
              0,
              "#0d0887"
             ],
             [
              0.1111111111111111,
              "#46039f"
             ],
             [
              0.2222222222222222,
              "#7201a8"
             ],
             [
              0.3333333333333333,
              "#9c179e"
             ],
             [
              0.4444444444444444,
              "#bd3786"
             ],
             [
              0.5555555555555556,
              "#d8576b"
             ],
             [
              0.6666666666666666,
              "#ed7953"
             ],
             [
              0.7777777777777778,
              "#fb9f3a"
             ],
             [
              0.8888888888888888,
              "#fdca26"
             ],
             [
              1,
              "#f0f921"
             ]
            ],
            "type": "heatmap"
           }
          ],
          "heatmapgl": [
           {
            "colorbar": {
             "outlinewidth": 0,
             "ticks": ""
            },
            "colorscale": [
             [
              0,
              "#0d0887"
             ],
             [
              0.1111111111111111,
              "#46039f"
             ],
             [
              0.2222222222222222,
              "#7201a8"
             ],
             [
              0.3333333333333333,
              "#9c179e"
             ],
             [
              0.4444444444444444,
              "#bd3786"
             ],
             [
              0.5555555555555556,
              "#d8576b"
             ],
             [
              0.6666666666666666,
              "#ed7953"
             ],
             [
              0.7777777777777778,
              "#fb9f3a"
             ],
             [
              0.8888888888888888,
              "#fdca26"
             ],
             [
              1,
              "#f0f921"
             ]
            ],
            "type": "heatmapgl"
           }
          ],
          "histogram": [
           {
            "marker": {
             "pattern": {
              "fillmode": "overlay",
              "size": 10,
              "solidity": 0.2
             }
            },
            "type": "histogram"
           }
          ],
          "histogram2d": [
           {
            "colorbar": {
             "outlinewidth": 0,
             "ticks": ""
            },
            "colorscale": [
             [
              0,
              "#0d0887"
             ],
             [
              0.1111111111111111,
              "#46039f"
             ],
             [
              0.2222222222222222,
              "#7201a8"
             ],
             [
              0.3333333333333333,
              "#9c179e"
             ],
             [
              0.4444444444444444,
              "#bd3786"
             ],
             [
              0.5555555555555556,
              "#d8576b"
             ],
             [
              0.6666666666666666,
              "#ed7953"
             ],
             [
              0.7777777777777778,
              "#fb9f3a"
             ],
             [
              0.8888888888888888,
              "#fdca26"
             ],
             [
              1,
              "#f0f921"
             ]
            ],
            "type": "histogram2d"
           }
          ],
          "histogram2dcontour": [
           {
            "colorbar": {
             "outlinewidth": 0,
             "ticks": ""
            },
            "colorscale": [
             [
              0,
              "#0d0887"
             ],
             [
              0.1111111111111111,
              "#46039f"
             ],
             [
              0.2222222222222222,
              "#7201a8"
             ],
             [
              0.3333333333333333,
              "#9c179e"
             ],
             [
              0.4444444444444444,
              "#bd3786"
             ],
             [
              0.5555555555555556,
              "#d8576b"
             ],
             [
              0.6666666666666666,
              "#ed7953"
             ],
             [
              0.7777777777777778,
              "#fb9f3a"
             ],
             [
              0.8888888888888888,
              "#fdca26"
             ],
             [
              1,
              "#f0f921"
             ]
            ],
            "type": "histogram2dcontour"
           }
          ],
          "mesh3d": [
           {
            "colorbar": {
             "outlinewidth": 0,
             "ticks": ""
            },
            "type": "mesh3d"
           }
          ],
          "parcoords": [
           {
            "line": {
             "colorbar": {
              "outlinewidth": 0,
              "ticks": ""
             }
            },
            "type": "parcoords"
           }
          ],
          "pie": [
           {
            "automargin": true,
            "type": "pie"
           }
          ],
          "scatter": [
           {
            "fillpattern": {
             "fillmode": "overlay",
             "size": 10,
             "solidity": 0.2
            },
            "type": "scatter"
           }
          ],
          "scatter3d": [
           {
            "line": {
             "colorbar": {
              "outlinewidth": 0,
              "ticks": ""
             }
            },
            "marker": {
             "colorbar": {
              "outlinewidth": 0,
              "ticks": ""
             }
            },
            "type": "scatter3d"
           }
          ],
          "scattercarpet": [
           {
            "marker": {
             "colorbar": {
              "outlinewidth": 0,
              "ticks": ""
             }
            },
            "type": "scattercarpet"
           }
          ],
          "scattergeo": [
           {
            "marker": {
             "colorbar": {
              "outlinewidth": 0,
              "ticks": ""
             }
            },
            "type": "scattergeo"
           }
          ],
          "scattergl": [
           {
            "marker": {
             "colorbar": {
              "outlinewidth": 0,
              "ticks": ""
             }
            },
            "type": "scattergl"
           }
          ],
          "scattermapbox": [
           {
            "marker": {
             "colorbar": {
              "outlinewidth": 0,
              "ticks": ""
             }
            },
            "type": "scattermapbox"
           }
          ],
          "scatterpolar": [
           {
            "marker": {
             "colorbar": {
              "outlinewidth": 0,
              "ticks": ""
             }
            },
            "type": "scatterpolar"
           }
          ],
          "scatterpolargl": [
           {
            "marker": {
             "colorbar": {
              "outlinewidth": 0,
              "ticks": ""
             }
            },
            "type": "scatterpolargl"
           }
          ],
          "scatterternary": [
           {
            "marker": {
             "colorbar": {
              "outlinewidth": 0,
              "ticks": ""
             }
            },
            "type": "scatterternary"
           }
          ],
          "surface": [
           {
            "colorbar": {
             "outlinewidth": 0,
             "ticks": ""
            },
            "colorscale": [
             [
              0,
              "#0d0887"
             ],
             [
              0.1111111111111111,
              "#46039f"
             ],
             [
              0.2222222222222222,
              "#7201a8"
             ],
             [
              0.3333333333333333,
              "#9c179e"
             ],
             [
              0.4444444444444444,
              "#bd3786"
             ],
             [
              0.5555555555555556,
              "#d8576b"
             ],
             [
              0.6666666666666666,
              "#ed7953"
             ],
             [
              0.7777777777777778,
              "#fb9f3a"
             ],
             [
              0.8888888888888888,
              "#fdca26"
             ],
             [
              1,
              "#f0f921"
             ]
            ],
            "type": "surface"
           }
          ],
          "table": [
           {
            "cells": {
             "fill": {
              "color": "#EBF0F8"
             },
             "line": {
              "color": "white"
             }
            },
            "header": {
             "fill": {
              "color": "#C8D4E3"
             },
             "line": {
              "color": "white"
             }
            },
            "type": "table"
           }
          ]
         },
         "layout": {
          "annotationdefaults": {
           "arrowcolor": "#2a3f5f",
           "arrowhead": 0,
           "arrowwidth": 1
          },
          "autotypenumbers": "strict",
          "coloraxis": {
           "colorbar": {
            "outlinewidth": 0,
            "ticks": ""
           }
          },
          "colorscale": {
           "diverging": [
            [
             0,
             "#8e0152"
            ],
            [
             0.1,
             "#c51b7d"
            ],
            [
             0.2,
             "#de77ae"
            ],
            [
             0.3,
             "#f1b6da"
            ],
            [
             0.4,
             "#fde0ef"
            ],
            [
             0.5,
             "#f7f7f7"
            ],
            [
             0.6,
             "#e6f5d0"
            ],
            [
             0.7,
             "#b8e186"
            ],
            [
             0.8,
             "#7fbc41"
            ],
            [
             0.9,
             "#4d9221"
            ],
            [
             1,
             "#276419"
            ]
           ],
           "sequential": [
            [
             0,
             "#0d0887"
            ],
            [
             0.1111111111111111,
             "#46039f"
            ],
            [
             0.2222222222222222,
             "#7201a8"
            ],
            [
             0.3333333333333333,
             "#9c179e"
            ],
            [
             0.4444444444444444,
             "#bd3786"
            ],
            [
             0.5555555555555556,
             "#d8576b"
            ],
            [
             0.6666666666666666,
             "#ed7953"
            ],
            [
             0.7777777777777778,
             "#fb9f3a"
            ],
            [
             0.8888888888888888,
             "#fdca26"
            ],
            [
             1,
             "#f0f921"
            ]
           ],
           "sequentialminus": [
            [
             0,
             "#0d0887"
            ],
            [
             0.1111111111111111,
             "#46039f"
            ],
            [
             0.2222222222222222,
             "#7201a8"
            ],
            [
             0.3333333333333333,
             "#9c179e"
            ],
            [
             0.4444444444444444,
             "#bd3786"
            ],
            [
             0.5555555555555556,
             "#d8576b"
            ],
            [
             0.6666666666666666,
             "#ed7953"
            ],
            [
             0.7777777777777778,
             "#fb9f3a"
            ],
            [
             0.8888888888888888,
             "#fdca26"
            ],
            [
             1,
             "#f0f921"
            ]
           ]
          },
          "colorway": [
           "#636efa",
           "#EF553B",
           "#00cc96",
           "#ab63fa",
           "#FFA15A",
           "#19d3f3",
           "#FF6692",
           "#B6E880",
           "#FF97FF",
           "#FECB52"
          ],
          "font": {
           "color": "#2a3f5f"
          },
          "geo": {
           "bgcolor": "white",
           "lakecolor": "white",
           "landcolor": "#E5ECF6",
           "showlakes": true,
           "showland": true,
           "subunitcolor": "white"
          },
          "hoverlabel": {
           "align": "left"
          },
          "hovermode": "closest",
          "mapbox": {
           "style": "light"
          },
          "paper_bgcolor": "white",
          "plot_bgcolor": "#E5ECF6",
          "polar": {
           "angularaxis": {
            "gridcolor": "white",
            "linecolor": "white",
            "ticks": ""
           },
           "bgcolor": "#E5ECF6",
           "radialaxis": {
            "gridcolor": "white",
            "linecolor": "white",
            "ticks": ""
           }
          },
          "scene": {
           "xaxis": {
            "backgroundcolor": "#E5ECF6",
            "gridcolor": "white",
            "gridwidth": 2,
            "linecolor": "white",
            "showbackground": true,
            "ticks": "",
            "zerolinecolor": "white"
           },
           "yaxis": {
            "backgroundcolor": "#E5ECF6",
            "gridcolor": "white",
            "gridwidth": 2,
            "linecolor": "white",
            "showbackground": true,
            "ticks": "",
            "zerolinecolor": "white"
           },
           "zaxis": {
            "backgroundcolor": "#E5ECF6",
            "gridcolor": "white",
            "gridwidth": 2,
            "linecolor": "white",
            "showbackground": true,
            "ticks": "",
            "zerolinecolor": "white"
           }
          },
          "shapedefaults": {
           "line": {
            "color": "#2a3f5f"
           }
          },
          "ternary": {
           "aaxis": {
            "gridcolor": "white",
            "linecolor": "white",
            "ticks": ""
           },
           "baxis": {
            "gridcolor": "white",
            "linecolor": "white",
            "ticks": ""
           },
           "bgcolor": "#E5ECF6",
           "caxis": {
            "gridcolor": "white",
            "linecolor": "white",
            "ticks": ""
           }
          },
          "title": {
           "x": 0.05
          },
          "xaxis": {
           "automargin": true,
           "gridcolor": "white",
           "linecolor": "white",
           "ticks": "",
           "title": {
            "standoff": 15
           },
           "zerolinecolor": "white",
           "zerolinewidth": 2
          },
          "yaxis": {
           "automargin": true,
           "gridcolor": "white",
           "linecolor": "white",
           "ticks": "",
           "title": {
            "standoff": 15
           },
           "zerolinecolor": "white",
           "zerolinewidth": 2
          }
         }
        },
        "title": {
         "text": "Publications by Division and Program"
        },
        "xaxis": {
         "anchor": "y",
         "domain": [
          0,
          1
         ],
         "title": {
          "text": "Divisions"
         }
        },
        "yaxis": {
         "anchor": "x",
         "domain": [
          0,
          1
         ],
         "title": {
          "text": "Publication Count"
         }
        }
       }
      },
      "text/html": [
       "<div>                            <div id=\"0febe820-67ec-4b91-8d20-8cea37e7c1b7\" class=\"plotly-graph-div\" style=\"height:525px; width:100%;\"></div>            <script type=\"text/javascript\">                require([\"plotly\"], function(Plotly) {                    window.PLOTLYENV=window.PLOTLYENV || {};                                    if (document.getElementById(\"0febe820-67ec-4b91-8d20-8cea37e7c1b7\")) {                    Plotly.newPlot(                        \"0febe820-67ec-4b91-8d20-8cea37e7c1b7\",                        [{\"alignmentgroup\":\"True\",\"customdata\":[[\"AM/Ortho\"]],\"hovertemplate\":\"Program=%{customdata[0]}<br>Divisions=%{x}<br>y=%{y}<extra></extra>\",\"legendgroup\":\"AM/Ortho\",\"marker\":{\"color\":\"#636efa\",\"pattern\":{\"shape\":\"\"}},\"name\":\"AM/Ortho\",\"offsetgroup\":\"AM/Ortho\",\"orientation\":\"v\",\"showlegend\":true,\"textposition\":\"auto\",\"x\":[\"Division of Applied Mechanics\"],\"xaxis\":\"x\",\"y\":[1],\"yaxis\":\"y\",\"type\":\"bar\"},{\"alignmentgroup\":\"True\",\"customdata\":[[\"Artificial Intelligence\"],[\"Artificial Intelligence\"],[\"Artificial Intelligence\"],[\"Artificial Intelligence\"]],\"hovertemplate\":\"Program=%{customdata[0]}<br>Divisions=%{x}<br>y=%{y}<extra></extra>\",\"legendgroup\":\"Artificial Intelligence\",\"marker\":{\"color\":\"#EF553B\",\"pattern\":{\"shape\":\"\"}},\"name\":\"Artificial Intelligence\",\"offsetgroup\":\"Artificial Intelligence\",\"orientation\":\"v\",\"showlegend\":true,\"textposition\":\"auto\",\"x\":[\"Division of Imaging, Diagnostics, and Software Reliability\",\"Division of Imaging, Diagnostics, and Software Reliability\",\"Division of Imaging, Diagnostics, and Software Reliability\",\"Division of Imaging, Diagnostics, and Software Reliability\"],\"xaxis\":\"x\",\"y\":[1,1,1,1],\"yaxis\":\"y\",\"type\":\"bar\"},{\"alignmentgroup\":\"True\",\"customdata\":[[\"Biocompatibility & Toxicology\"],[\"Biocompatibility & Toxicology\"],[\"Biocompatibility & Toxicology\"],[\"Biocompatibility & Toxicology\"],[\"Biocompatibility & Toxicology\"],[\"Biocompatibility & Toxicology\"],[\"Biocompatibility & Toxicology\"],[\"Biocompatibility & Toxicology\"],[\"Biocompatibility & Toxicology\"]],\"hovertemplate\":\"Program=%{customdata[0]}<br>Divisions=%{x}<br>y=%{y}<extra></extra>\",\"legendgroup\":\"Biocompatibility & Toxicology\",\"marker\":{\"color\":\"#00cc96\",\"pattern\":{\"shape\":\"\"}},\"name\":\"Biocompatibility & Toxicology\",\"offsetgroup\":\"Biocompatibility & Toxicology\",\"orientation\":\"v\",\"showlegend\":true,\"textposition\":\"auto\",\"x\":[\"Division of Biology, Chemistry, and Materials Science\",\"Division of Biology, Chemistry, and Materials Science\",\"Division of Biology, Chemistry, and Materials Science\",\"Division of Biology, Chemistry, and Materials Science\",\"Division of Biology, Chemistry, and Materials Science\",\"Division of Biology, Chemistry, and Materials Science\",\"Division of Biology, Chemistry, and Materials Science\",\"Division of Biology, Chemistry, and Materials Science\",\"Division of Biology, Chemistry, and Materials Science\"],\"xaxis\":\"x\",\"y\":[1,1,1,1,1,1,1,1,1],\"yaxis\":\"y\",\"type\":\"bar\"},{\"alignmentgroup\":\"True\",\"customdata\":[[\"Cardiovascular\"],[\"Cardiovascular\"],[\"Cardiovascular\"],[\"Cardiovascular\"],[\"Cardiovascular\"],[\"Cardiovascular\"],[\"Cardiovascular\"],[\"Cardiovascular\"],[\"Cardiovascular\"],[\"Cardiovascular\"],[\"Cardiovascular\"],[\"Cardiovascular\"],[\"Cardiovascular\"],[\"Cardiovascular\"],[\"Cardiovascular\"],[\"Cardiovascular\"],[\"Cardiovascular\"],[\"Cardiovascular\"],[\"Cardiovascular\"]],\"hovertemplate\":\"Program=%{customdata[0]}<br>Divisions=%{x}<br>y=%{y}<extra></extra>\",\"legendgroup\":\"Cardiovascular\",\"marker\":{\"color\":\"#ab63fa\",\"pattern\":{\"shape\":\"\"}},\"name\":\"Cardiovascular\",\"offsetgroup\":\"Cardiovascular\",\"orientation\":\"v\",\"showlegend\":true,\"textposition\":\"auto\",\"x\":[\"Division of Applied Mechanics\",\"Division of Biomedical Physics\",\"Division of Biomedical Physics\",\"Division of Biomedical Physics\",\"Division of Biomedical Physics\",\"Division of Biomedical Physics\",\"Division of Biomedical Physics\",\"Division of Applied Mechanics\",\"Division of Applied Mechanics\",\"Division of Applied Mechanics\",\"Division of Applied Mechanics\",\"Division of Applied Mechanics\",\"Division of Applied Mechanics\",\"Division of Applied Mechanics\",\"Division of Applied Mechanics\",\"Division of Applied Mechanics\",\"Division of Applied Mechanics\",\"Division of Applied Mechanics\",\"Division of Biomedical Physics\"],\"xaxis\":\"x\",\"y\":[1,1,1,1,1,1,1,1,1,1,1,1,1,1,1,1,1,1,1],\"yaxis\":\"y\",\"type\":\"bar\"},{\"alignmentgroup\":\"True\",\"customdata\":[[\"Credibility in Computational Modeling\"],[\"Credibility in Computational Modeling\"],[\"Credibility in Computational Modeling\"],[\"Credibility in Computational Modeling\"],[\"Credibility in Computational Modeling\"],[\"Credibility in Computational Modeling\"],[\"Credibility in Computational Modeling\"]],\"hovertemplate\":\"Program=%{customdata[0]}<br>Divisions=%{x}<br>y=%{y}<extra></extra>\",\"legendgroup\":\"Credibility in Computational Modeling\",\"marker\":{\"color\":\"#FFA15A\",\"pattern\":{\"shape\":\"\"}},\"name\":\"Credibility in Computational Modeling\",\"offsetgroup\":\"Credibility in Computational Modeling\",\"orientation\":\"v\",\"showlegend\":true,\"textposition\":\"auto\",\"x\":[\"Division of Applied Mechanics\",\"Division of Biomedical Physics\",\"Division of Biomedical Physics\",\"Division of Applied Mechanics\",\"Division of Applied Mechanics\",\"Division of Applied Mechanics\",\"Division of Applied Mechanics\"],\"xaxis\":\"x\",\"y\":[1,1,1,1,1,1,1],\"yaxis\":\"y\",\"type\":\"bar\"},{\"alignmentgroup\":\"True\",\"customdata\":[[\"Digital Pathology, AI/ML\"],[\"Digital Pathology, AI/ML\"],[\"Digital Pathology, AI/ML\"],[\"Digital Pathology, AI/ML\"],[\"Digital Pathology, AI/ML\"],[\"Digital Pathology, AI/ML\"],[\"Digital Pathology, AI/ML\"],[\"Digital Pathology, AI/ML\"]],\"hovertemplate\":\"Program=%{customdata[0]}<br>Divisions=%{x}<br>y=%{y}<extra></extra>\",\"legendgroup\":\"Digital Pathology, AI/ML\",\"marker\":{\"color\":\"#19d3f3\",\"pattern\":{\"shape\":\"\"}},\"name\":\"Digital Pathology, AI/ML\",\"offsetgroup\":\"Digital Pathology, AI/ML\",\"orientation\":\"v\",\"showlegend\":true,\"textposition\":\"auto\",\"x\":[\"Division of Imaging, Diagnostics, and Software Reliability\",\"Division of Imaging, Diagnostics, and Software Reliability\",\"Division of Imaging, Diagnostics, and Software Reliability\",\"Division of Imaging, Diagnostics, and Software Reliability\",\"Division of Imaging, Diagnostics, and Software Reliability\",\"Division of Imaging, Diagnostics, and Software Reliability\",\"Division of Imaging, Diagnostics, and Software Reliability\",\"Division of Imaging, Diagnostics, and Software Reliability\"],\"xaxis\":\"x\",\"y\":[1,1,1,1,1,1,1,1],\"yaxis\":\"y\",\"type\":\"bar\"},{\"alignmentgroup\":\"True\",\"customdata\":[[\"Digital Pathology, MID\"],[\"Digital Pathology, MID\"],[\"Digital Pathology, MID\"],[\"Digital Pathology, MID\"],[\"Digital Pathology, MID\"],[\"Digital Pathology, MID\"],[\"Digital Pathology, MID\"],[\"Digital Pathology, MID\"],[\"Digital Pathology, MID\"],[\"Digital Pathology, MID\"],[\"Digital Pathology, MID\"],[\"Digital Pathology, MID\"],[\"Digital Pathology, MID\"],[\"Digital Pathology, MID\"],[\"Digital Pathology, MID\"],[\"Digital Pathology, MID\"],[\"Digital Pathology, MID\"],[\"Digital Pathology, MID\"],[\"Digital Pathology, MID\"],[\"Digital Pathology, MID\"],[\"Digital Pathology, MID\"],[\"Digital Pathology, MID\"],[\"Digital Pathology, MID\"],[\"Digital Pathology, MID\"],[\"Digital Pathology, MID\"],[\"Digital Pathology, MID\"],[\"Digital Pathology, MID\"],[\"Digital Pathology, MID\"],[\"Digital Pathology, MID\"],[\"Digital Pathology, MID\"],[\"Digital Pathology, MID\"],[\"Digital Pathology, MID\"]],\"hovertemplate\":\"Program=%{customdata[0]}<br>Divisions=%{x}<br>y=%{y}<extra></extra>\",\"legendgroup\":\"Digital Pathology, MID\",\"marker\":{\"color\":\"#FF6692\",\"pattern\":{\"shape\":\"\"}},\"name\":\"Digital Pathology, MID\",\"offsetgroup\":\"Digital Pathology, MID\",\"orientation\":\"v\",\"showlegend\":true,\"textposition\":\"auto\",\"x\":[\"Division of Biomedical Physics\",\"Division of Biomedical Physics\",\"Division of Biomedical Physics\",\"Division of Biomedical Physics\",\"Division of Biomedical Physics\",\"Division of Biomedical Physics\",\"Division of Imaging, Diagnostics, and Software Reliability\",\"Division of Biomedical Physics\",\"Division of Biomedical Physics\",\"Division of Imaging, Diagnostics, and Software Reliability\",\"Division of Imaging, Diagnostics, and Software Reliability\",\"Division of Imaging, Diagnostics, and Software Reliability\",\"Division of Imaging, Diagnostics, and Software Reliability\",\"Division of Imaging, Diagnostics, and Software Reliability\",\"Division of Biomedical Physics\",\"Division of Biomedical Physics\",\"Division of Biomedical Physics\",\"Division of Imaging, Diagnostics, and Software Reliability\",\"Division of Imaging, Diagnostics, and Software Reliability\",\"Division of Imaging, Diagnostics, and Software Reliability\",\"Division of Imaging, Diagnostics, and Software Reliability\",\"Division of Imaging, Diagnostics, and Software Reliability\",\"Division of Biomedical Physics\",\"Division of Biomedical Physics\",\"Division of Biomedical Physics\",\"Division of Biomedical Physics\",\"Division of Biomedical Physics\",\"Division of Biomedical Physics\",\"Division of Biomedical Physics\",\"Division of Biomedical Physics\",\"Division of Biomedical Physics\",\"Division of Biomedical Physics\"],\"xaxis\":\"x\",\"y\":[1,1,1,1,1,1,1,1,1,1,1,1,1,1,1,1,1,1,1,1,1,1,1,1,1,1,1,1,1,1,1,1],\"yaxis\":\"y\",\"type\":\"bar\"},{\"alignmentgroup\":\"True\",\"customdata\":[[\"Electrical safety and battery\"]],\"hovertemplate\":\"Program=%{customdata[0]}<br>Divisions=%{x}<br>y=%{y}<extra></extra>\",\"legendgroup\":\"Electrical safety and battery\",\"marker\":{\"color\":\"#B6E880\",\"pattern\":{\"shape\":\"\"}},\"name\":\"Electrical safety and battery\",\"offsetgroup\":\"Electrical safety and battery\",\"orientation\":\"v\",\"showlegend\":true,\"textposition\":\"auto\",\"x\":[\"Division of Biomedical Physics\"],\"xaxis\":\"x\",\"y\":[1],\"yaxis\":\"y\",\"type\":\"bar\"},{\"alignmentgroup\":\"True\",\"customdata\":[[\"Electromagnetic and Electric Safety (EES) - MRI Safety\"],[\"Electromagnetic and Electric Safety (EES) - MRI Safety\"]],\"hovertemplate\":\"Program=%{customdata[0]}<br>Divisions=%{x}<br>y=%{y}<extra></extra>\",\"legendgroup\":\"Electromagnetic and Electric Safety (EES) - MRI Safety\",\"marker\":{\"color\":\"#FF97FF\",\"pattern\":{\"shape\":\"\"}},\"name\":\"Electromagnetic and Electric Safety (EES) - MRI Safety\",\"offsetgroup\":\"Electromagnetic and Electric Safety (EES) - MRI Safety\",\"orientation\":\"v\",\"showlegend\":true,\"textposition\":\"auto\",\"x\":[\"Division of Biomedical Physics\",\"Division of Biomedical Physics\"],\"xaxis\":\"x\",\"y\":[1,1],\"yaxis\":\"y\",\"type\":\"bar\"},{\"alignmentgroup\":\"True\",\"customdata\":[[\"Laser and Optical Radiation Safety (LORS)\"],[\"Laser and Optical Radiation Safety (LORS)\"]],\"hovertemplate\":\"Program=%{customdata[0]}<br>Divisions=%{x}<br>y=%{y}<extra></extra>\",\"legendgroup\":\"Laser and Optical Radiation Safety (LORS)\",\"marker\":{\"color\":\"#FECB52\",\"pattern\":{\"shape\":\"\"}},\"name\":\"Laser and Optical Radiation Safety (LORS)\",\"offsetgroup\":\"Laser and Optical Radiation Safety (LORS)\",\"orientation\":\"v\",\"showlegend\":true,\"textposition\":\"auto\",\"x\":[\"Division of Biomedical Physics\",\"Division of Biomedical Physics\"],\"xaxis\":\"x\",\"y\":[1,1],\"yaxis\":\"y\",\"type\":\"bar\"},{\"alignmentgroup\":\"True\",\"customdata\":[[\"MXR\"],[\"MXR\"],[\"MXR\"]],\"hovertemplate\":\"Program=%{customdata[0]}<br>Divisions=%{x}<br>y=%{y}<extra></extra>\",\"legendgroup\":\"MXR\",\"marker\":{\"color\":\"#636efa\",\"pattern\":{\"shape\":\"\"}},\"name\":\"MXR\",\"offsetgroup\":\"MXR\",\"orientation\":\"v\",\"showlegend\":true,\"textposition\":\"auto\",\"x\":[\"Division of Imaging, Diagnostics, and Software Reliability\",\"Division of Imaging, Diagnostics, and Software Reliability\",\"Division of Imaging, Diagnostics, and Software Reliability\"],\"xaxis\":\"x\",\"y\":[1,1,1],\"yaxis\":\"y\",\"type\":\"bar\"},{\"alignmentgroup\":\"True\",\"customdata\":[[\"Materials and Chemical Characterization\"],[\"Materials and Chemical Characterization\"],[\"Materials and Chemical Characterization\"],[\"Materials and Chemical Characterization\"]],\"hovertemplate\":\"Program=%{customdata[0]}<br>Divisions=%{x}<br>y=%{y}<extra></extra>\",\"legendgroup\":\"Materials and Chemical Characterization\",\"marker\":{\"color\":\"#EF553B\",\"pattern\":{\"shape\":\"\"}},\"name\":\"Materials and Chemical Characterization\",\"offsetgroup\":\"Materials and Chemical Characterization\",\"orientation\":\"v\",\"showlegend\":true,\"textposition\":\"auto\",\"x\":[\"Division of Biology, Chemistry, and Materials Science\",\"Division of Biology, Chemistry, and Materials Science\",\"Division of Biology, Chemistry, and Materials Science\",\"Division of Biology, Chemistry, and Materials Science\"],\"xaxis\":\"x\",\"y\":[1,1,1,1],\"yaxis\":\"y\",\"type\":\"bar\"},{\"alignmentgroup\":\"True\",\"customdata\":[[\"Ophthalmology, Electromagnetic and Electrical Safety\"],[\"Ophthalmology, Electromagnetic and Electrical Safety\"],[\"Ophthalmology, Electromagnetic and Electrical Safety\"],[\"Ophthalmology, Electromagnetic and Electrical Safety\"],[\"Ophthalmology, Electromagnetic and Electrical Safety\"],[\"Ophthalmology, Electromagnetic and Electrical Safety\"]],\"hovertemplate\":\"Program=%{customdata[0]}<br>Divisions=%{x}<br>y=%{y}<extra></extra>\",\"legendgroup\":\"Ophthalmology, Electromagnetic and Electrical Safety\",\"marker\":{\"color\":\"#00cc96\",\"pattern\":{\"shape\":\"\"}},\"name\":\"Ophthalmology, Electromagnetic and Electrical Safety\",\"offsetgroup\":\"Ophthalmology, Electromagnetic and Electrical Safety\",\"orientation\":\"v\",\"showlegend\":true,\"textposition\":\"auto\",\"x\":[\"Division of Biomedical Physics\",\"Division of Biomedical Physics\",\"Division of Biomedical Physics\",\"Division of Biomedical Physics\",\"Division of Biomedical Physics\",\"Division of Biomedical Physics\"],\"xaxis\":\"x\",\"y\":[1,1,1,1,1,1],\"yaxis\":\"y\",\"type\":\"bar\"},{\"alignmentgroup\":\"True\",\"customdata\":[[\"Orthopaedics/Additive Manufacturing\"]],\"hovertemplate\":\"Program=%{customdata[0]}<br>Divisions=%{x}<br>y=%{y}<extra></extra>\",\"legendgroup\":\"Orthopaedics/Additive Manufacturing\",\"marker\":{\"color\":\"#ab63fa\",\"pattern\":{\"shape\":\"\"}},\"name\":\"Orthopaedics/Additive Manufacturing\",\"offsetgroup\":\"Orthopaedics/Additive Manufacturing\",\"orientation\":\"v\",\"showlegend\":true,\"textposition\":\"auto\",\"x\":[\"Division of Applied Mechanics\"],\"xaxis\":\"x\",\"y\":[1],\"yaxis\":\"y\",\"type\":\"bar\"},{\"alignmentgroup\":\"True\",\"customdata\":[[\"Orthopedic, Material Science and Cardiovascular\"],[\"Orthopedic, Material Science and Cardiovascular\"]],\"hovertemplate\":\"Program=%{customdata[0]}<br>Divisions=%{x}<br>y=%{y}<extra></extra>\",\"legendgroup\":\"Orthopedic, Material Science and Cardiovascular\",\"marker\":{\"color\":\"#FFA15A\",\"pattern\":{\"shape\":\"\"}},\"name\":\"Orthopedic, Material Science and Cardiovascular\",\"offsetgroup\":\"Orthopedic, Material Science and Cardiovascular\",\"orientation\":\"v\",\"showlegend\":true,\"textposition\":\"auto\",\"x\":[\"Division of Applied Mechanics\",\"Division of Applied Mechanics\"],\"xaxis\":\"x\",\"y\":[1,1],\"yaxis\":\"y\",\"type\":\"bar\"},{\"alignmentgroup\":\"True\",\"customdata\":[[\"Orthopedics\"],[\"Orthopedics\"]],\"hovertemplate\":\"Program=%{customdata[0]}<br>Divisions=%{x}<br>y=%{y}<extra></extra>\",\"legendgroup\":\"Orthopedics\",\"marker\":{\"color\":\"#19d3f3\",\"pattern\":{\"shape\":\"\"}},\"name\":\"Orthopedics\",\"offsetgroup\":\"Orthopedics\",\"orientation\":\"v\",\"showlegend\":true,\"textposition\":\"auto\",\"x\":[\"Division of Applied Mechanics\",\"Division of Applied Mechanics\"],\"xaxis\":\"x\",\"y\":[1,1],\"yaxis\":\"y\",\"type\":\"bar\"},{\"alignmentgroup\":\"True\",\"customdata\":[[\"Patient Monitoring and Control\"],[\"Patient Monitoring and Control\"],[\"Patient Monitoring and Control\"]],\"hovertemplate\":\"Program=%{customdata[0]}<br>Divisions=%{x}<br>y=%{y}<extra></extra>\",\"legendgroup\":\"Patient Monitoring and Control\",\"marker\":{\"color\":\"#FF6692\",\"pattern\":{\"shape\":\"\"}},\"name\":\"Patient Monitoring and Control\",\"offsetgroup\":\"Patient Monitoring and Control\",\"orientation\":\"v\",\"showlegend\":true,\"textposition\":\"auto\",\"x\":[\"Division of Biomedical Physics\",\"Division of Biomedical Physics\",\"Division of Biomedical Physics\"],\"xaxis\":\"x\",\"y\":[1,1,1],\"yaxis\":\"y\",\"type\":\"bar\"},{\"alignmentgroup\":\"True\",\"customdata\":[[\"Post Market Signal Responce\"],[\"Post Market Signal Responce\"]],\"hovertemplate\":\"Program=%{customdata[0]}<br>Divisions=%{x}<br>y=%{y}<extra></extra>\",\"legendgroup\":\"Post Market Signal Responce\",\"marker\":{\"color\":\"#B6E880\",\"pattern\":{\"shape\":\"\"}},\"name\":\"Post Market Signal Responce\",\"offsetgroup\":\"Post Market Signal Responce\",\"orientation\":\"v\",\"showlegend\":true,\"textposition\":\"auto\",\"x\":[\"Division of Applied Mechanics\",\"Division of Applied Mechanics\"],\"xaxis\":\"x\",\"y\":[1,1],\"yaxis\":\"y\",\"type\":\"bar\"}],                        {\"template\":{\"data\":{\"histogram2dcontour\":[{\"type\":\"histogram2dcontour\",\"colorbar\":{\"outlinewidth\":0,\"ticks\":\"\"},\"colorscale\":[[0.0,\"#0d0887\"],[0.1111111111111111,\"#46039f\"],[0.2222222222222222,\"#7201a8\"],[0.3333333333333333,\"#9c179e\"],[0.4444444444444444,\"#bd3786\"],[0.5555555555555556,\"#d8576b\"],[0.6666666666666666,\"#ed7953\"],[0.7777777777777778,\"#fb9f3a\"],[0.8888888888888888,\"#fdca26\"],[1.0,\"#f0f921\"]]}],\"choropleth\":[{\"type\":\"choropleth\",\"colorbar\":{\"outlinewidth\":0,\"ticks\":\"\"}}],\"histogram2d\":[{\"type\":\"histogram2d\",\"colorbar\":{\"outlinewidth\":0,\"ticks\":\"\"},\"colorscale\":[[0.0,\"#0d0887\"],[0.1111111111111111,\"#46039f\"],[0.2222222222222222,\"#7201a8\"],[0.3333333333333333,\"#9c179e\"],[0.4444444444444444,\"#bd3786\"],[0.5555555555555556,\"#d8576b\"],[0.6666666666666666,\"#ed7953\"],[0.7777777777777778,\"#fb9f3a\"],[0.8888888888888888,\"#fdca26\"],[1.0,\"#f0f921\"]]}],\"heatmap\":[{\"type\":\"heatmap\",\"colorbar\":{\"outlinewidth\":0,\"ticks\":\"\"},\"colorscale\":[[0.0,\"#0d0887\"],[0.1111111111111111,\"#46039f\"],[0.2222222222222222,\"#7201a8\"],[0.3333333333333333,\"#9c179e\"],[0.4444444444444444,\"#bd3786\"],[0.5555555555555556,\"#d8576b\"],[0.6666666666666666,\"#ed7953\"],[0.7777777777777778,\"#fb9f3a\"],[0.8888888888888888,\"#fdca26\"],[1.0,\"#f0f921\"]]}],\"heatmapgl\":[{\"type\":\"heatmapgl\",\"colorbar\":{\"outlinewidth\":0,\"ticks\":\"\"},\"colorscale\":[[0.0,\"#0d0887\"],[0.1111111111111111,\"#46039f\"],[0.2222222222222222,\"#7201a8\"],[0.3333333333333333,\"#9c179e\"],[0.4444444444444444,\"#bd3786\"],[0.5555555555555556,\"#d8576b\"],[0.6666666666666666,\"#ed7953\"],[0.7777777777777778,\"#fb9f3a\"],[0.8888888888888888,\"#fdca26\"],[1.0,\"#f0f921\"]]}],\"contourcarpet\":[{\"type\":\"contourcarpet\",\"colorbar\":{\"outlinewidth\":0,\"ticks\":\"\"}}],\"contour\":[{\"type\":\"contour\",\"colorbar\":{\"outlinewidth\":0,\"ticks\":\"\"},\"colorscale\":[[0.0,\"#0d0887\"],[0.1111111111111111,\"#46039f\"],[0.2222222222222222,\"#7201a8\"],[0.3333333333333333,\"#9c179e\"],[0.4444444444444444,\"#bd3786\"],[0.5555555555555556,\"#d8576b\"],[0.6666666666666666,\"#ed7953\"],[0.7777777777777778,\"#fb9f3a\"],[0.8888888888888888,\"#fdca26\"],[1.0,\"#f0f921\"]]}],\"surface\":[{\"type\":\"surface\",\"colorbar\":{\"outlinewidth\":0,\"ticks\":\"\"},\"colorscale\":[[0.0,\"#0d0887\"],[0.1111111111111111,\"#46039f\"],[0.2222222222222222,\"#7201a8\"],[0.3333333333333333,\"#9c179e\"],[0.4444444444444444,\"#bd3786\"],[0.5555555555555556,\"#d8576b\"],[0.6666666666666666,\"#ed7953\"],[0.7777777777777778,\"#fb9f3a\"],[0.8888888888888888,\"#fdca26\"],[1.0,\"#f0f921\"]]}],\"mesh3d\":[{\"type\":\"mesh3d\",\"colorbar\":{\"outlinewidth\":0,\"ticks\":\"\"}}],\"scatter\":[{\"fillpattern\":{\"fillmode\":\"overlay\",\"size\":10,\"solidity\":0.2},\"type\":\"scatter\"}],\"parcoords\":[{\"type\":\"parcoords\",\"line\":{\"colorbar\":{\"outlinewidth\":0,\"ticks\":\"\"}}}],\"scatterpolargl\":[{\"type\":\"scatterpolargl\",\"marker\":{\"colorbar\":{\"outlinewidth\":0,\"ticks\":\"\"}}}],\"bar\":[{\"error_x\":{\"color\":\"#2a3f5f\"},\"error_y\":{\"color\":\"#2a3f5f\"},\"marker\":{\"line\":{\"color\":\"#E5ECF6\",\"width\":0.5},\"pattern\":{\"fillmode\":\"overlay\",\"size\":10,\"solidity\":0.2}},\"type\":\"bar\"}],\"scattergeo\":[{\"type\":\"scattergeo\",\"marker\":{\"colorbar\":{\"outlinewidth\":0,\"ticks\":\"\"}}}],\"scatterpolar\":[{\"type\":\"scatterpolar\",\"marker\":{\"colorbar\":{\"outlinewidth\":0,\"ticks\":\"\"}}}],\"histogram\":[{\"marker\":{\"pattern\":{\"fillmode\":\"overlay\",\"size\":10,\"solidity\":0.2}},\"type\":\"histogram\"}],\"scattergl\":[{\"type\":\"scattergl\",\"marker\":{\"colorbar\":{\"outlinewidth\":0,\"ticks\":\"\"}}}],\"scatter3d\":[{\"type\":\"scatter3d\",\"line\":{\"colorbar\":{\"outlinewidth\":0,\"ticks\":\"\"}},\"marker\":{\"colorbar\":{\"outlinewidth\":0,\"ticks\":\"\"}}}],\"scattermapbox\":[{\"type\":\"scattermapbox\",\"marker\":{\"colorbar\":{\"outlinewidth\":0,\"ticks\":\"\"}}}],\"scatterternary\":[{\"type\":\"scatterternary\",\"marker\":{\"colorbar\":{\"outlinewidth\":0,\"ticks\":\"\"}}}],\"scattercarpet\":[{\"type\":\"scattercarpet\",\"marker\":{\"colorbar\":{\"outlinewidth\":0,\"ticks\":\"\"}}}],\"carpet\":[{\"aaxis\":{\"endlinecolor\":\"#2a3f5f\",\"gridcolor\":\"white\",\"linecolor\":\"white\",\"minorgridcolor\":\"white\",\"startlinecolor\":\"#2a3f5f\"},\"baxis\":{\"endlinecolor\":\"#2a3f5f\",\"gridcolor\":\"white\",\"linecolor\":\"white\",\"minorgridcolor\":\"white\",\"startlinecolor\":\"#2a3f5f\"},\"type\":\"carpet\"}],\"table\":[{\"cells\":{\"fill\":{\"color\":\"#EBF0F8\"},\"line\":{\"color\":\"white\"}},\"header\":{\"fill\":{\"color\":\"#C8D4E3\"},\"line\":{\"color\":\"white\"}},\"type\":\"table\"}],\"barpolar\":[{\"marker\":{\"line\":{\"color\":\"#E5ECF6\",\"width\":0.5},\"pattern\":{\"fillmode\":\"overlay\",\"size\":10,\"solidity\":0.2}},\"type\":\"barpolar\"}],\"pie\":[{\"automargin\":true,\"type\":\"pie\"}]},\"layout\":{\"autotypenumbers\":\"strict\",\"colorway\":[\"#636efa\",\"#EF553B\",\"#00cc96\",\"#ab63fa\",\"#FFA15A\",\"#19d3f3\",\"#FF6692\",\"#B6E880\",\"#FF97FF\",\"#FECB52\"],\"font\":{\"color\":\"#2a3f5f\"},\"hovermode\":\"closest\",\"hoverlabel\":{\"align\":\"left\"},\"paper_bgcolor\":\"white\",\"plot_bgcolor\":\"#E5ECF6\",\"polar\":{\"bgcolor\":\"#E5ECF6\",\"angularaxis\":{\"gridcolor\":\"white\",\"linecolor\":\"white\",\"ticks\":\"\"},\"radialaxis\":{\"gridcolor\":\"white\",\"linecolor\":\"white\",\"ticks\":\"\"}},\"ternary\":{\"bgcolor\":\"#E5ECF6\",\"aaxis\":{\"gridcolor\":\"white\",\"linecolor\":\"white\",\"ticks\":\"\"},\"baxis\":{\"gridcolor\":\"white\",\"linecolor\":\"white\",\"ticks\":\"\"},\"caxis\":{\"gridcolor\":\"white\",\"linecolor\":\"white\",\"ticks\":\"\"}},\"coloraxis\":{\"colorbar\":{\"outlinewidth\":0,\"ticks\":\"\"}},\"colorscale\":{\"sequential\":[[0.0,\"#0d0887\"],[0.1111111111111111,\"#46039f\"],[0.2222222222222222,\"#7201a8\"],[0.3333333333333333,\"#9c179e\"],[0.4444444444444444,\"#bd3786\"],[0.5555555555555556,\"#d8576b\"],[0.6666666666666666,\"#ed7953\"],[0.7777777777777778,\"#fb9f3a\"],[0.8888888888888888,\"#fdca26\"],[1.0,\"#f0f921\"]],\"sequentialminus\":[[0.0,\"#0d0887\"],[0.1111111111111111,\"#46039f\"],[0.2222222222222222,\"#7201a8\"],[0.3333333333333333,\"#9c179e\"],[0.4444444444444444,\"#bd3786\"],[0.5555555555555556,\"#d8576b\"],[0.6666666666666666,\"#ed7953\"],[0.7777777777777778,\"#fb9f3a\"],[0.8888888888888888,\"#fdca26\"],[1.0,\"#f0f921\"]],\"diverging\":[[0,\"#8e0152\"],[0.1,\"#c51b7d\"],[0.2,\"#de77ae\"],[0.3,\"#f1b6da\"],[0.4,\"#fde0ef\"],[0.5,\"#f7f7f7\"],[0.6,\"#e6f5d0\"],[0.7,\"#b8e186\"],[0.8,\"#7fbc41\"],[0.9,\"#4d9221\"],[1,\"#276419\"]]},\"xaxis\":{\"gridcolor\":\"white\",\"linecolor\":\"white\",\"ticks\":\"\",\"title\":{\"standoff\":15},\"zerolinecolor\":\"white\",\"automargin\":true,\"zerolinewidth\":2},\"yaxis\":{\"gridcolor\":\"white\",\"linecolor\":\"white\",\"ticks\":\"\",\"title\":{\"standoff\":15},\"zerolinecolor\":\"white\",\"automargin\":true,\"zerolinewidth\":2},\"scene\":{\"xaxis\":{\"backgroundcolor\":\"#E5ECF6\",\"gridcolor\":\"white\",\"linecolor\":\"white\",\"showbackground\":true,\"ticks\":\"\",\"zerolinecolor\":\"white\",\"gridwidth\":2},\"yaxis\":{\"backgroundcolor\":\"#E5ECF6\",\"gridcolor\":\"white\",\"linecolor\":\"white\",\"showbackground\":true,\"ticks\":\"\",\"zerolinecolor\":\"white\",\"gridwidth\":2},\"zaxis\":{\"backgroundcolor\":\"#E5ECF6\",\"gridcolor\":\"white\",\"linecolor\":\"white\",\"showbackground\":true,\"ticks\":\"\",\"zerolinecolor\":\"white\",\"gridwidth\":2}},\"shapedefaults\":{\"line\":{\"color\":\"#2a3f5f\"}},\"annotationdefaults\":{\"arrowcolor\":\"#2a3f5f\",\"arrowhead\":0,\"arrowwidth\":1},\"geo\":{\"bgcolor\":\"white\",\"landcolor\":\"#E5ECF6\",\"subunitcolor\":\"white\",\"showland\":true,\"showlakes\":true,\"lakecolor\":\"white\"},\"title\":{\"x\":0.05},\"mapbox\":{\"style\":\"light\"}}},\"xaxis\":{\"anchor\":\"y\",\"domain\":[0.0,1.0],\"title\":{\"text\":\"Divisions\"}},\"yaxis\":{\"anchor\":\"x\",\"domain\":[0.0,1.0],\"title\":{\"text\":\"Publication Count\"}},\"legend\":{\"title\":{\"text\":\"Program\"},\"tracegroupgap\":0},\"title\":{\"text\":\"Publications by Division and Program\"},\"barmode\":\"relative\"},                        {\"responsive\": true}                    ).then(function(){\n",
       "                            \n",
       "var gd = document.getElementById('0febe820-67ec-4b91-8d20-8cea37e7c1b7');\n",
       "var x = new MutationObserver(function (mutations, observer) {{\n",
       "        var display = window.getComputedStyle(gd).display;\n",
       "        if (!display || display === 'none') {{\n",
       "            console.log([gd, 'removed!']);\n",
       "            Plotly.purge(gd);\n",
       "            observer.disconnect();\n",
       "        }}\n",
       "}});\n",
       "\n",
       "// Listen for the removal of the full notebook cells\n",
       "var notebookContainer = gd.closest('#notebook-container');\n",
       "if (notebookContainer) {{\n",
       "    x.observe(notebookContainer, {childList: true});\n",
       "}}\n",
       "\n",
       "// Listen for the clearing of the current output cell\n",
       "var outputEl = gd.closest('.output');\n",
       "if (outputEl) {{\n",
       "    x.observe(outputEl, {childList: true});\n",
       "}}\n",
       "\n",
       "                        })                };                });            </script>        </div>"
      ]
     },
     "metadata": {},
     "output_type": "display_data"
    }
   ],
   "source": [
    "# Sort the dataset by the 'Program' column\n",
    "df_sorted = df.sort_values('Program')\n",
    "\n",
    "# Create the bar plot with sorted data\n",
    "fig = px.bar(df_sorted, x='Division ', y= publication_counts , color='Program', title='Publications by Division and Program',\n",
    "             labels={'Division ': 'Divisions', 'publication_counts': 'Publication Count', 'Program': 'Program'},\n",
    "             hover_data=['Program'])\n",
    "\n",
    "fig.update_yaxes(title='Publication Count')\n",
    "\n",
    "fig.show() "
   ]
  }
 ],
 "metadata": {
  "kernelspec": {
   "display_name": "Python 3 (ipykernel)",
   "language": "python",
   "name": "python3"
  },
  "language_info": {
   "codemirror_mode": {
    "name": "ipython",
    "version": 3
   },
   "file_extension": ".py",
   "mimetype": "text/x-python",
   "name": "python",
   "nbconvert_exporter": "python",
   "pygments_lexer": "ipython3",
   "version": "3.10.9"
  }
 },
 "nbformat": 4,
 "nbformat_minor": 5
}
